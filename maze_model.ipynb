{
 "cells": [
  {
   "cell_type": "code",
   "execution_count": null,
   "metadata": {},
   "outputs": [
    {
     "ename": "",
     "evalue": "",
     "output_type": "error",
     "traceback": [
      "\u001b[1;31mThe kernel failed to start as the Python Environment 'test' is no longer available. Consider selecting another kernel or refreshing the list of Python Environments."
     ]
    }
   ],
   "source": [
    "import torch\n",
    "import torch.nn as nn\n",
    "import models\n",
    "from procgen import ProcgenGym3Env\n",
    "import gym\n",
    "from procgen_wrappers import (\n",
    "    TransposeFrame,\n",
    "    ScaledFloatFrame,\n",
    "    VecExtractDictObs,\n",
    ")\n",
    "from gym3 import ToBaselinesVecEnv\n",
    "import maze\n"
   ]
  },
  {
   "cell_type": "code",
   "execution_count": 2,
   "metadata": {},
   "outputs": [],
   "source": [
    "model = models.load_policy('model_rand_region_15.pth', 15, torch.device(\"cpu\"))\n",
    "venv = maze.create_venv(num=1, start_level=0, num_levels=0, env_name = \"maze\" )"
   ]
  },
  {
   "cell_type": "code",
   "execution_count": 8,
   "metadata": {},
   "outputs": [
    {
     "data": {
      "text/plain": [
       "(Categorical(logits: torch.Size([1, 15])),\n",
       " tensor([8.2150], grad_fn=<ReshapeAliasBackward0>))"
      ]
     },
     "execution_count": 8,
     "metadata": {},
     "output_type": "execute_result"
    }
   ],
   "source": [
    "obs = torch.Tensor(venv.reset())\n",
    "model(obs)"
   ]
  }
 ],
 "metadata": {
  "kernelspec": {
   "display_name": "procgen",
   "language": "python",
   "name": "python3"
  },
  "language_info": {
   "codemirror_mode": {
    "name": "ipython",
    "version": 3
   },
   "file_extension": ".py",
   "mimetype": "text/x-python",
   "name": "python",
   "nbconvert_exporter": "python",
   "pygments_lexer": "ipython3",
   "version": "3.8.17"
  },
  "orig_nbformat": 4
 },
 "nbformat": 4,
 "nbformat_minor": 2
}
